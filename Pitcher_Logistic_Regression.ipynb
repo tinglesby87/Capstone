{
 "cells": [
  {
   "cell_type": "code",
   "execution_count": 3,
   "metadata": {
    "collapsed": false
   },
   "outputs": [],
   "source": [
    "import urllib\n",
    "from bs4 import BeautifulSoup\n",
    "import requests\n",
    "import pandas as pd\n",
    "import requests\n",
    "%matplotlib inline\n",
    "from sklearn.tree import DecisionTreeClassifier, export_graphviz\n",
    "from sklearn import tree\n",
    "from sklearn import datasets\n",
    "import pandas as pd\n",
    "import os \n",
    "import matplotlib.pyplot as plt\n",
    "from sklearn.preprocessing import StandardScaler, normalize\n",
    "from sklearn.linear_model import LogisticRegression\n",
    "from sklearn.cross_validation import cross_val_score\n",
    "from sklearn.linear_model import LogisticRegressionCV"
   ]
  },
  {
   "cell_type": "code",
   "execution_count": 4,
   "metadata": {
    "collapsed": true
   },
   "outputs": [],
   "source": [
    "# compare\n",
    "from sklearn.linear_model import LogisticRegression\n",
    "from sklearn import cross_validation\n",
    "from sklearn.linear_model import LinearRegression\n",
    "from sklearn.cross_validation import train_test_split\n",
    "from sklearn.grid_search import GridSearchCV\n",
    "from sklearn import metrics\n",
    "import numpy as np"
   ]
  },
  {
   "cell_type": "code",
   "execution_count": 19,
   "metadata": {
    "collapsed": true
   },
   "outputs": [],
   "source": [
    "#baseball4['FIP'] = ((((13*baseball4.HR)+(3*baseball4.BB)-(2*baseball4.K))/baseball4.IP)+3.2)"
   ]
  },
  {
   "cell_type": "code",
   "execution_count": 20,
   "metadata": {
    "collapsed": false
   },
   "outputs": [
    {
     "data": {
      "text/plain": [
       "\"\\nfor x,y in zip( baseball4['IP'].values,baseball4['ER'].values):\\n    if x >= 6.0:\\n        if y <= 3.0:\\n            QS.append(1)\\n        else:\\n            QS.append(0)\\n    else:\\n        QS.append(0)\""
      ]
     },
     "execution_count": 20,
     "metadata": {},
     "output_type": "execute_result"
    }
   ],
   "source": [
    "'''\n",
    "for x,y in zip( baseball4['IP'].values,baseball4['ER'].values):\n",
    "    if x >= 6.0:\n",
    "        if y <= 3.0:\n",
    "            QS.append(1)\n",
    "        else:\n",
    "            QS.append(0)\n",
    "    else:\n",
    "        QS.append(0)'''\n"
   ]
  },
  {
   "cell_type": "code",
   "execution_count": 6,
   "metadata": {
    "collapsed": true
   },
   "outputs": [
    {
     "data": {
      "text/html": [
       "<div>\n",
       "<table border=\"1\" class=\"dataframe\">\n",
       "  <thead>\n",
       "    <tr style=\"text-align: right;\">\n",
       "      <th></th>\n",
       "      <th>Unnamed: 0</th>\n",
       "      <th>Name</th>\n",
       "      <th>IP</th>\n",
       "      <th>H</th>\n",
       "      <th>R</th>\n",
       "      <th>ER</th>\n",
       "      <th>BB</th>\n",
       "      <th>K</th>\n",
       "      <th>HR</th>\n",
       "      <th>ERA</th>\n",
       "      <th>...</th>\n",
       "      <th>StS</th>\n",
       "      <th>StL</th>\n",
       "      <th>GB</th>\n",
       "      <th>FB</th>\n",
       "      <th>LD</th>\n",
       "      <th>GB_rate</th>\n",
       "      <th>FB_rate</th>\n",
       "      <th>LD_rate</th>\n",
       "      <th>QS</th>\n",
       "      <th>FIP</th>\n",
       "    </tr>\n",
       "  </thead>\n",
       "  <tbody>\n",
       "    <tr>\n",
       "      <th>0</th>\n",
       "      <td>0</td>\n",
       "      <td>Wade Miley</td>\n",
       "      <td>5.0</td>\n",
       "      <td>3</td>\n",
       "      <td>3</td>\n",
       "      <td>3</td>\n",
       "      <td>2</td>\n",
       "      <td>8</td>\n",
       "      <td>1</td>\n",
       "      <td>5.40</td>\n",
       "      <td>...</td>\n",
       "      <td>11.0</td>\n",
       "      <td>15.0</td>\n",
       "      <td>6.0</td>\n",
       "      <td>7.0</td>\n",
       "      <td>3.0</td>\n",
       "      <td>0.375000</td>\n",
       "      <td>0.437500</td>\n",
       "      <td>0.187500</td>\n",
       "      <td>0</td>\n",
       "      <td>3.800000</td>\n",
       "    </tr>\n",
       "    <tr>\n",
       "      <th>1</th>\n",
       "      <td>1</td>\n",
       "      <td>Trevor Cahill</td>\n",
       "      <td>4.0</td>\n",
       "      <td>8</td>\n",
       "      <td>5</td>\n",
       "      <td>5</td>\n",
       "      <td>4</td>\n",
       "      <td>1</td>\n",
       "      <td>0</td>\n",
       "      <td>11.25</td>\n",
       "      <td>...</td>\n",
       "      <td>3.0</td>\n",
       "      <td>10.0</td>\n",
       "      <td>8.0</td>\n",
       "      <td>9.0</td>\n",
       "      <td>6.0</td>\n",
       "      <td>0.347826</td>\n",
       "      <td>0.391304</td>\n",
       "      <td>0.260870</td>\n",
       "      <td>0</td>\n",
       "      <td>5.700000</td>\n",
       "    </tr>\n",
       "    <tr>\n",
       "      <th>2</th>\n",
       "      <td>2</td>\n",
       "      <td>Brandon McCarthy</td>\n",
       "      <td>6.2</td>\n",
       "      <td>6</td>\n",
       "      <td>5</td>\n",
       "      <td>5</td>\n",
       "      <td>1</td>\n",
       "      <td>4</td>\n",
       "      <td>1</td>\n",
       "      <td>6.75</td>\n",
       "      <td>...</td>\n",
       "      <td>7.0</td>\n",
       "      <td>20.0</td>\n",
       "      <td>11.0</td>\n",
       "      <td>11.0</td>\n",
       "      <td>5.0</td>\n",
       "      <td>0.407407</td>\n",
       "      <td>0.407407</td>\n",
       "      <td>0.185185</td>\n",
       "      <td>0</td>\n",
       "      <td>4.490323</td>\n",
       "    </tr>\n",
       "    <tr>\n",
       "      <th>3</th>\n",
       "      <td>3</td>\n",
       "      <td>Wade Miley</td>\n",
       "      <td>7.0</td>\n",
       "      <td>6</td>\n",
       "      <td>4</td>\n",
       "      <td>4</td>\n",
       "      <td>1</td>\n",
       "      <td>5</td>\n",
       "      <td>1</td>\n",
       "      <td>5.25</td>\n",
       "      <td>...</td>\n",
       "      <td>12.0</td>\n",
       "      <td>18.0</td>\n",
       "      <td>11.0</td>\n",
       "      <td>11.0</td>\n",
       "      <td>5.0</td>\n",
       "      <td>0.407407</td>\n",
       "      <td>0.407407</td>\n",
       "      <td>0.185185</td>\n",
       "      <td>0</td>\n",
       "      <td>4.057143</td>\n",
       "    </tr>\n",
       "    <tr>\n",
       "      <th>4</th>\n",
       "      <td>4</td>\n",
       "      <td>Trevor Cahill</td>\n",
       "      <td>6.0</td>\n",
       "      <td>4</td>\n",
       "      <td>2</td>\n",
       "      <td>2</td>\n",
       "      <td>3</td>\n",
       "      <td>3</td>\n",
       "      <td>0</td>\n",
       "      <td>6.30</td>\n",
       "      <td>...</td>\n",
       "      <td>7.0</td>\n",
       "      <td>16.0</td>\n",
       "      <td>9.0</td>\n",
       "      <td>10.0</td>\n",
       "      <td>5.0</td>\n",
       "      <td>0.375000</td>\n",
       "      <td>0.416667</td>\n",
       "      <td>0.208333</td>\n",
       "      <td>1</td>\n",
       "      <td>3.700000</td>\n",
       "    </tr>\n",
       "  </tbody>\n",
       "</table>\n",
       "<p>5 rows × 24 columns</p>\n",
       "</div>"
      ],
      "text/plain": [
       "   Unnamed: 0              Name   IP  H  R  ER  BB  K  HR    ERA    ...     \\\n",
       "0           0        Wade Miley  5.0  3  3   3   2  8   1   5.40    ...      \n",
       "1           1     Trevor Cahill  4.0  8  5   5   4  1   0  11.25    ...      \n",
       "2           2  Brandon McCarthy  6.2  6  5   5   1  4   1   6.75    ...      \n",
       "3           3        Wade Miley  7.0  6  4   4   1  5   1   5.25    ...      \n",
       "4           4     Trevor Cahill  6.0  4  2   2   3  3   0   6.30    ...      \n",
       "\n",
       "    StS   StL    GB    FB   LD   GB_rate   FB_rate   LD_rate  QS       FIP  \n",
       "0  11.0  15.0   6.0   7.0  3.0  0.375000  0.437500  0.187500   0  3.800000  \n",
       "1   3.0  10.0   8.0   9.0  6.0  0.347826  0.391304  0.260870   0  5.700000  \n",
       "2   7.0  20.0  11.0  11.0  5.0  0.407407  0.407407  0.185185   0  4.490323  \n",
       "3  12.0  18.0  11.0  11.0  5.0  0.407407  0.407407  0.185185   0  4.057143  \n",
       "4   7.0  16.0   9.0  10.0  5.0  0.375000  0.416667  0.208333   1  3.700000  \n",
       "\n",
       "[5 rows x 24 columns]"
      ]
     },
     "execution_count": 6,
     "metadata": {},
     "output_type": "execute_result"
    }
   ],
   "source": [
    "baseball5 = pd.read_csv(\"baseball5\")\n",
    "baseball5.head()"
   ]
  },
  {
   "cell_type": "code",
   "execution_count": 7,
   "metadata": {
    "collapsed": false
   },
   "outputs": [
    {
     "data": {
      "text/html": [
       "<div>\n",
       "<table border=\"1\" class=\"dataframe\">\n",
       "  <thead>\n",
       "    <tr style=\"text-align: right;\">\n",
       "      <th></th>\n",
       "      <th>Name</th>\n",
       "      <th>IP</th>\n",
       "      <th>H</th>\n",
       "      <th>R</th>\n",
       "      <th>ER</th>\n",
       "      <th>BB</th>\n",
       "      <th>K</th>\n",
       "      <th>HR</th>\n",
       "      <th>ERA</th>\n",
       "      <th>BF</th>\n",
       "      <th>...</th>\n",
       "      <th>StS</th>\n",
       "      <th>StL</th>\n",
       "      <th>GB</th>\n",
       "      <th>FB</th>\n",
       "      <th>LD</th>\n",
       "      <th>GB_rate</th>\n",
       "      <th>FB_rate</th>\n",
       "      <th>LD_rate</th>\n",
       "      <th>QS</th>\n",
       "      <th>FIP</th>\n",
       "    </tr>\n",
       "  </thead>\n",
       "  <tbody>\n",
       "    <tr>\n",
       "      <th>0</th>\n",
       "      <td>Wade Miley</td>\n",
       "      <td>5.0</td>\n",
       "      <td>3</td>\n",
       "      <td>3</td>\n",
       "      <td>3</td>\n",
       "      <td>2</td>\n",
       "      <td>8</td>\n",
       "      <td>1</td>\n",
       "      <td>5.40</td>\n",
       "      <td>22</td>\n",
       "      <td>...</td>\n",
       "      <td>11.0</td>\n",
       "      <td>15.0</td>\n",
       "      <td>6.0</td>\n",
       "      <td>7.0</td>\n",
       "      <td>3.0</td>\n",
       "      <td>0.375000</td>\n",
       "      <td>0.437500</td>\n",
       "      <td>0.187500</td>\n",
       "      <td>0</td>\n",
       "      <td>3.800000</td>\n",
       "    </tr>\n",
       "    <tr>\n",
       "      <th>1</th>\n",
       "      <td>Trevor Cahill</td>\n",
       "      <td>4.0</td>\n",
       "      <td>8</td>\n",
       "      <td>5</td>\n",
       "      <td>5</td>\n",
       "      <td>4</td>\n",
       "      <td>1</td>\n",
       "      <td>0</td>\n",
       "      <td>11.25</td>\n",
       "      <td>23</td>\n",
       "      <td>...</td>\n",
       "      <td>3.0</td>\n",
       "      <td>10.0</td>\n",
       "      <td>8.0</td>\n",
       "      <td>9.0</td>\n",
       "      <td>6.0</td>\n",
       "      <td>0.347826</td>\n",
       "      <td>0.391304</td>\n",
       "      <td>0.260870</td>\n",
       "      <td>0</td>\n",
       "      <td>5.700000</td>\n",
       "    </tr>\n",
       "    <tr>\n",
       "      <th>2</th>\n",
       "      <td>Brandon McCarthy</td>\n",
       "      <td>6.2</td>\n",
       "      <td>6</td>\n",
       "      <td>5</td>\n",
       "      <td>5</td>\n",
       "      <td>1</td>\n",
       "      <td>4</td>\n",
       "      <td>1</td>\n",
       "      <td>6.75</td>\n",
       "      <td>27</td>\n",
       "      <td>...</td>\n",
       "      <td>7.0</td>\n",
       "      <td>20.0</td>\n",
       "      <td>11.0</td>\n",
       "      <td>11.0</td>\n",
       "      <td>5.0</td>\n",
       "      <td>0.407407</td>\n",
       "      <td>0.407407</td>\n",
       "      <td>0.185185</td>\n",
       "      <td>0</td>\n",
       "      <td>4.490323</td>\n",
       "    </tr>\n",
       "    <tr>\n",
       "      <th>3</th>\n",
       "      <td>Wade Miley</td>\n",
       "      <td>7.0</td>\n",
       "      <td>6</td>\n",
       "      <td>4</td>\n",
       "      <td>4</td>\n",
       "      <td>1</td>\n",
       "      <td>5</td>\n",
       "      <td>1</td>\n",
       "      <td>5.25</td>\n",
       "      <td>28</td>\n",
       "      <td>...</td>\n",
       "      <td>12.0</td>\n",
       "      <td>18.0</td>\n",
       "      <td>11.0</td>\n",
       "      <td>11.0</td>\n",
       "      <td>5.0</td>\n",
       "      <td>0.407407</td>\n",
       "      <td>0.407407</td>\n",
       "      <td>0.185185</td>\n",
       "      <td>0</td>\n",
       "      <td>4.057143</td>\n",
       "    </tr>\n",
       "    <tr>\n",
       "      <th>4</th>\n",
       "      <td>Trevor Cahill</td>\n",
       "      <td>6.0</td>\n",
       "      <td>4</td>\n",
       "      <td>2</td>\n",
       "      <td>2</td>\n",
       "      <td>3</td>\n",
       "      <td>3</td>\n",
       "      <td>0</td>\n",
       "      <td>6.30</td>\n",
       "      <td>25</td>\n",
       "      <td>...</td>\n",
       "      <td>7.0</td>\n",
       "      <td>16.0</td>\n",
       "      <td>9.0</td>\n",
       "      <td>10.0</td>\n",
       "      <td>5.0</td>\n",
       "      <td>0.375000</td>\n",
       "      <td>0.416667</td>\n",
       "      <td>0.208333</td>\n",
       "      <td>1</td>\n",
       "      <td>3.700000</td>\n",
       "    </tr>\n",
       "  </tbody>\n",
       "</table>\n",
       "<p>5 rows × 23 columns</p>\n",
       "</div>"
      ],
      "text/plain": [
       "               Name   IP  H  R  ER  BB  K  HR    ERA  BF    ...      StS  \\\n",
       "0        Wade Miley  5.0  3  3   3   2  8   1   5.40  22    ...     11.0   \n",
       "1     Trevor Cahill  4.0  8  5   5   4  1   0  11.25  23    ...      3.0   \n",
       "2  Brandon McCarthy  6.2  6  5   5   1  4   1   6.75  27    ...      7.0   \n",
       "3        Wade Miley  7.0  6  4   4   1  5   1   5.25  28    ...     12.0   \n",
       "4     Trevor Cahill  6.0  4  2   2   3  3   0   6.30  25    ...      7.0   \n",
       "\n",
       "    StL    GB    FB   LD   GB_rate   FB_rate   LD_rate  QS       FIP  \n",
       "0  15.0   6.0   7.0  3.0  0.375000  0.437500  0.187500   0  3.800000  \n",
       "1  10.0   8.0   9.0  6.0  0.347826  0.391304  0.260870   0  5.700000  \n",
       "2  20.0  11.0  11.0  5.0  0.407407  0.407407  0.185185   0  4.490323  \n",
       "3  18.0  11.0  11.0  5.0  0.407407  0.407407  0.185185   0  4.057143  \n",
       "4  16.0   9.0  10.0  5.0  0.375000  0.416667  0.208333   1  3.700000  \n",
       "\n",
       "[5 rows x 23 columns]"
      ]
     },
     "execution_count": 7,
     "metadata": {},
     "output_type": "execute_result"
    }
   ],
   "source": [
    "baseball5=baseball5.drop(\"Unnamed: 0\",axis=1)\n",
    "baseball5.head()"
   ]
  },
  {
   "cell_type": "code",
   "execution_count": 5,
   "metadata": {
    "collapsed": true
   },
   "outputs": [
    {
     "data": {
      "text/html": [
       "<div>\n",
       "<table border=\"1\" class=\"dataframe\">\n",
       "  <thead>\n",
       "    <tr style=\"text-align: right;\">\n",
       "      <th></th>\n",
       "      <th>Unnamed: 0</th>\n",
       "      <th>Name</th>\n",
       "      <th>IP</th>\n",
       "      <th>H</th>\n",
       "      <th>R</th>\n",
       "      <th>ER</th>\n",
       "      <th>BB</th>\n",
       "      <th>K</th>\n",
       "      <th>HR</th>\n",
       "      <th>ERA</th>\n",
       "      <th>BF</th>\n",
       "      <th>Pit</th>\n",
       "      <th>Str</th>\n",
       "      <th>Ctct</th>\n",
       "      <th>StS</th>\n",
       "      <th>StL</th>\n",
       "      <th>GB</th>\n",
       "      <th>FB</th>\n",
       "      <th>LD</th>\n",
       "      <th>QS</th>\n",
       "    </tr>\n",
       "  </thead>\n",
       "  <tbody>\n",
       "    <tr>\n",
       "      <th>0</th>\n",
       "      <td>0</td>\n",
       "      <td>Dustin McGowan</td>\n",
       "      <td>2.2</td>\n",
       "      <td>8</td>\n",
       "      <td>4</td>\n",
       "      <td>4</td>\n",
       "      <td>1</td>\n",
       "      <td>3</td>\n",
       "      <td>0</td>\n",
       "      <td>13.50</td>\n",
       "      <td>17</td>\n",
       "      <td>72</td>\n",
       "      <td>45</td>\n",
       "      <td>29</td>\n",
       "      <td>4</td>\n",
       "      <td>12</td>\n",
       "      <td>5</td>\n",
       "      <td>8</td>\n",
       "      <td>5</td>\n",
       "      <td>0</td>\n",
       "    </tr>\n",
       "    <tr>\n",
       "      <th>1</th>\n",
       "      <td>1</td>\n",
       "      <td>R.A. Dickey</td>\n",
       "      <td>6.2</td>\n",
       "      <td>5</td>\n",
       "      <td>0</td>\n",
       "      <td>0</td>\n",
       "      <td>1</td>\n",
       "      <td>6</td>\n",
       "      <td>0</td>\n",
       "      <td>4.63</td>\n",
       "      <td>25</td>\n",
       "      <td>108</td>\n",
       "      <td>69</td>\n",
       "      <td>41</td>\n",
       "      <td>12</td>\n",
       "      <td>16</td>\n",
       "      <td>9</td>\n",
       "      <td>8</td>\n",
       "      <td>3</td>\n",
       "      <td>1</td>\n",
       "    </tr>\n",
       "    <tr>\n",
       "      <th>2</th>\n",
       "      <td>2</td>\n",
       "      <td>Drew Hutchison</td>\n",
       "      <td>3.1</td>\n",
       "      <td>6</td>\n",
       "      <td>6</td>\n",
       "      <td>6</td>\n",
       "      <td>3</td>\n",
       "      <td>6</td>\n",
       "      <td>1</td>\n",
       "      <td>6.23</td>\n",
       "      <td>20</td>\n",
       "      <td>78</td>\n",
       "      <td>49</td>\n",
       "      <td>22</td>\n",
       "      <td>13</td>\n",
       "      <td>14</td>\n",
       "      <td>4</td>\n",
       "      <td>6</td>\n",
       "      <td>2</td>\n",
       "      <td>0</td>\n",
       "    </tr>\n",
       "    <tr>\n",
       "      <th>3</th>\n",
       "      <td>3</td>\n",
       "      <td>Mark Buehrle</td>\n",
       "      <td>5.1</td>\n",
       "      <td>8</td>\n",
       "      <td>1</td>\n",
       "      <td>1</td>\n",
       "      <td>1</td>\n",
       "      <td>3</td>\n",
       "      <td>0</td>\n",
       "      <td>0.64</td>\n",
       "      <td>24</td>\n",
       "      <td>81</td>\n",
       "      <td>50</td>\n",
       "      <td>30</td>\n",
       "      <td>8</td>\n",
       "      <td>12</td>\n",
       "      <td>9</td>\n",
       "      <td>11</td>\n",
       "      <td>8</td>\n",
       "      <td>0</td>\n",
       "    </tr>\n",
       "    <tr>\n",
       "      <th>4</th>\n",
       "      <td>4</td>\n",
       "      <td>Brandon Morrow</td>\n",
       "      <td>6.0</td>\n",
       "      <td>5</td>\n",
       "      <td>3</td>\n",
       "      <td>3</td>\n",
       "      <td>1</td>\n",
       "      <td>9</td>\n",
       "      <td>1</td>\n",
       "      <td>5.73</td>\n",
       "      <td>24</td>\n",
       "      <td>86</td>\n",
       "      <td>60</td>\n",
       "      <td>25</td>\n",
       "      <td>19</td>\n",
       "      <td>16</td>\n",
       "      <td>8</td>\n",
       "      <td>6</td>\n",
       "      <td>3</td>\n",
       "      <td>1</td>\n",
       "    </tr>\n",
       "  </tbody>\n",
       "</table>\n",
       "</div>"
      ],
      "text/plain": [
       "   Unnamed: 0            Name   IP  H  R  ER  BB  K  HR    ERA  BF  Pit  Str  \\\n",
       "0           0  Dustin McGowan  2.2  8  4   4   1  3   0  13.50  17   72   45   \n",
       "1           1     R.A. Dickey  6.2  5  0   0   1  6   0   4.63  25  108   69   \n",
       "2           2  Drew Hutchison  3.1  6  6   6   3  6   1   6.23  20   78   49   \n",
       "3           3    Mark Buehrle  5.1  8  1   1   1  3   0   0.64  24   81   50   \n",
       "4           4  Brandon Morrow  6.0  5  3   3   1  9   1   5.73  24   86   60   \n",
       "\n",
       "   Ctct  StS  StL  GB  FB  LD  QS  \n",
       "0    29    4   12   5   8   5   0  \n",
       "1    41   12   16   9   8   3   1  \n",
       "2    22   13   14   4   6   2   0  \n",
       "3    30    8   12   9  11   8   0  \n",
       "4    25   19   16   8   6   3   1  "
      ]
     },
     "execution_count": 5,
     "metadata": {},
     "output_type": "execute_result"
    }
   ],
   "source": [
    "easy_baseball3= pd.read_csv('easy_baseball2.csv')\n",
    "easy_baseball3.head()"
   ]
  },
  {
   "cell_type": "code",
   "execution_count": 8,
   "metadata": {
    "collapsed": false
   },
   "outputs": [
    {
     "data": {
      "text/html": [
       "<div>\n",
       "<table border=\"1\" class=\"dataframe\">\n",
       "  <thead>\n",
       "    <tr style=\"text-align: right;\">\n",
       "      <th></th>\n",
       "      <th>Name</th>\n",
       "      <th>IP</th>\n",
       "      <th>H</th>\n",
       "      <th>R</th>\n",
       "      <th>ER</th>\n",
       "      <th>BB</th>\n",
       "      <th>K</th>\n",
       "      <th>HR</th>\n",
       "      <th>ERA</th>\n",
       "      <th>BF</th>\n",
       "      <th>Pit</th>\n",
       "      <th>Str</th>\n",
       "      <th>Ctct</th>\n",
       "      <th>StS</th>\n",
       "      <th>StL</th>\n",
       "      <th>GB</th>\n",
       "      <th>FB</th>\n",
       "      <th>LD</th>\n",
       "      <th>QS</th>\n",
       "    </tr>\n",
       "  </thead>\n",
       "  <tbody>\n",
       "    <tr>\n",
       "      <th>0</th>\n",
       "      <td>Dustin McGowan</td>\n",
       "      <td>2.2</td>\n",
       "      <td>8</td>\n",
       "      <td>4</td>\n",
       "      <td>4</td>\n",
       "      <td>1</td>\n",
       "      <td>3</td>\n",
       "      <td>0</td>\n",
       "      <td>13.50</td>\n",
       "      <td>17</td>\n",
       "      <td>72</td>\n",
       "      <td>45</td>\n",
       "      <td>29</td>\n",
       "      <td>4</td>\n",
       "      <td>12</td>\n",
       "      <td>5</td>\n",
       "      <td>8</td>\n",
       "      <td>5</td>\n",
       "      <td>0</td>\n",
       "    </tr>\n",
       "    <tr>\n",
       "      <th>1</th>\n",
       "      <td>R.A. Dickey</td>\n",
       "      <td>6.2</td>\n",
       "      <td>5</td>\n",
       "      <td>0</td>\n",
       "      <td>0</td>\n",
       "      <td>1</td>\n",
       "      <td>6</td>\n",
       "      <td>0</td>\n",
       "      <td>4.63</td>\n",
       "      <td>25</td>\n",
       "      <td>108</td>\n",
       "      <td>69</td>\n",
       "      <td>41</td>\n",
       "      <td>12</td>\n",
       "      <td>16</td>\n",
       "      <td>9</td>\n",
       "      <td>8</td>\n",
       "      <td>3</td>\n",
       "      <td>1</td>\n",
       "    </tr>\n",
       "    <tr>\n",
       "      <th>2</th>\n",
       "      <td>Drew Hutchison</td>\n",
       "      <td>3.1</td>\n",
       "      <td>6</td>\n",
       "      <td>6</td>\n",
       "      <td>6</td>\n",
       "      <td>3</td>\n",
       "      <td>6</td>\n",
       "      <td>1</td>\n",
       "      <td>6.23</td>\n",
       "      <td>20</td>\n",
       "      <td>78</td>\n",
       "      <td>49</td>\n",
       "      <td>22</td>\n",
       "      <td>13</td>\n",
       "      <td>14</td>\n",
       "      <td>4</td>\n",
       "      <td>6</td>\n",
       "      <td>2</td>\n",
       "      <td>0</td>\n",
       "    </tr>\n",
       "    <tr>\n",
       "      <th>3</th>\n",
       "      <td>Mark Buehrle</td>\n",
       "      <td>5.1</td>\n",
       "      <td>8</td>\n",
       "      <td>1</td>\n",
       "      <td>1</td>\n",
       "      <td>1</td>\n",
       "      <td>3</td>\n",
       "      <td>0</td>\n",
       "      <td>0.64</td>\n",
       "      <td>24</td>\n",
       "      <td>81</td>\n",
       "      <td>50</td>\n",
       "      <td>30</td>\n",
       "      <td>8</td>\n",
       "      <td>12</td>\n",
       "      <td>9</td>\n",
       "      <td>11</td>\n",
       "      <td>8</td>\n",
       "      <td>0</td>\n",
       "    </tr>\n",
       "    <tr>\n",
       "      <th>4</th>\n",
       "      <td>Brandon Morrow</td>\n",
       "      <td>6.0</td>\n",
       "      <td>5</td>\n",
       "      <td>3</td>\n",
       "      <td>3</td>\n",
       "      <td>1</td>\n",
       "      <td>9</td>\n",
       "      <td>1</td>\n",
       "      <td>5.73</td>\n",
       "      <td>24</td>\n",
       "      <td>86</td>\n",
       "      <td>60</td>\n",
       "      <td>25</td>\n",
       "      <td>19</td>\n",
       "      <td>16</td>\n",
       "      <td>8</td>\n",
       "      <td>6</td>\n",
       "      <td>3</td>\n",
       "      <td>1</td>\n",
       "    </tr>\n",
       "  </tbody>\n",
       "</table>\n",
       "</div>"
      ],
      "text/plain": [
       "             Name   IP  H  R  ER  BB  K  HR    ERA  BF  Pit  Str  Ctct  StS  \\\n",
       "0  Dustin McGowan  2.2  8  4   4   1  3   0  13.50  17   72   45    29    4   \n",
       "1     R.A. Dickey  6.2  5  0   0   1  6   0   4.63  25  108   69    41   12   \n",
       "2  Drew Hutchison  3.1  6  6   6   3  6   1   6.23  20   78   49    22   13   \n",
       "3    Mark Buehrle  5.1  8  1   1   1  3   0   0.64  24   81   50    30    8   \n",
       "4  Brandon Morrow  6.0  5  3   3   1  9   1   5.73  24   86   60    25   19   \n",
       "\n",
       "   StL  GB  FB  LD  QS  \n",
       "0   12   5   8   5   0  \n",
       "1   16   9   8   3   1  \n",
       "2   14   4   6   2   0  \n",
       "3   12   9  11   8   0  \n",
       "4   16   8   6   3   1  "
      ]
     },
     "execution_count": 8,
     "metadata": {},
     "output_type": "execute_result"
    }
   ],
   "source": [
    "easy_baseball3=easy_baseball3.drop(\"Unnamed: 0\",axis=1)\n",
    "easy_baseball3.head()"
   ]
  },
  {
   "cell_type": "code",
   "execution_count": 44,
   "metadata": {
    "collapsed": true
   },
   "outputs": [],
   "source": [
    "baseball6 = baseball5.to_csv(\"baseball6\")"
   ]
  },
  {
   "cell_type": "code",
   "execution_count": 47,
   "metadata": {
    "collapsed": false
   },
   "outputs": [],
   "source": [
    "easy_baseball4 = easy_baseball3.to_csv(\"easy_baseball3\")"
   ]
  },
  {
   "cell_type": "code",
   "execution_count": 5,
   "metadata": {
    "collapsed": false
   },
   "outputs": [],
   "source": [
    "baseball6=pd.read_csv('baseball6')"
   ]
  },
  {
   "cell_type": "code",
   "execution_count": 6,
   "metadata": {
    "collapsed": false
   },
   "outputs": [],
   "source": [
    "easy_baseball4= pd.read_csv('easy_baseball3')"
   ]
  },
  {
   "cell_type": "code",
   "execution_count": 7,
   "metadata": {
    "collapsed": false
   },
   "outputs": [],
   "source": [
    "#X = baseball5[['IP', 'H','R','ER','BB','K','HR','ERA','BF','Pit','Str', 'Ctct', 'StS', 'StL', 'GB', 'FB', 'LD']]\n",
    "#exclude IP and ER from X to limit blatant collinearity\n",
    "#exclude Strikes due to Ctct, Sts, StL all components of Strikes, K's overlap and BIP are strikes good or bad outcome\n",
    "X = baseball6[['BB','K', 'Ctct', 'StS', 'StL', 'GB', 'FB', 'LD']]\n",
    "#X2 = baseball5[['HR', 'H', 'BB','K','Pit', 'Ctct', 'StS', 'StL', 'GB', 'FB', 'LD']]\n",
    "scaler = StandardScaler()\n",
    "X_scaled = scaler.fit_transform(X)\n",
    "#X2_scaled = scaler.fit_transform(X2)\n",
    "#y1 = baseball5.FIP\n",
    "y2= baseball6.QS\n",
    "X_train, X_test, y_train, y_test = train_test_split(X_scaled, y2, test_size=0.33, random_state=0)"
   ]
  },
  {
   "cell_type": "code",
   "execution_count": 8,
   "metadata": {
    "collapsed": false
   },
   "outputs": [
    {
     "data": {
      "text/plain": [
       "<bound method LogisticRegression.get_params of LogisticRegression(C=1.0, class_weight=None, dual=False, fit_intercept=True,\n",
       "          intercept_scaling=1, max_iter=100, multi_class='ovr', n_jobs=1,\n",
       "          penalty='l2', random_state=None, solver='liblinear', tol=0.0001,\n",
       "          verbose=0, warm_start=False)>"
      ]
     },
     "execution_count": 8,
     "metadata": {},
     "output_type": "execute_result"
    }
   ],
   "source": [
    "############ logistic regression on pitching game data and Quality Starts\n",
    "logreg = LogisticRegression()\n",
    "logreg.fit(X_scaled, y2)\n",
    "#scores = cross_validation.cross_val_score(logreg, X2, Y2, cv=5)\n",
    "#scores.mean()\n",
    "\n",
    "logreg.get_params"
   ]
  },
  {
   "cell_type": "code",
   "execution_count": 9,
   "metadata": {
    "collapsed": false
   },
   "outputs": [
    {
     "data": {
      "text/plain": [
       "array([ 0.7375    ,  0.75312856,  0.72696246,  0.73265074,  0.74601367])"
      ]
     },
     "execution_count": 9,
     "metadata": {},
     "output_type": "execute_result"
    }
   ],
   "source": [
    "cross_val_score(logreg, X_scaled, y2, cv=5)"
   ]
  },
  {
   "cell_type": "code",
   "execution_count": 11,
   "metadata": {
    "collapsed": false
   },
   "outputs": [
    {
     "name": "stdout",
     "output_type": "stream",
     "text": [
      "0.820343432046\n"
     ]
    }
   ],
   "source": [
    "baseball6_scores = cross_val_score(logreg, X_scaled, y2, cv=5, scoring='roc_auc')\n",
    "print np.mean(baseball6_scores)"
   ]
  },
  {
   "cell_type": "code",
   "execution_count": 12,
   "metadata": {
    "collapsed": false
   },
   "outputs": [
    {
     "data": {
      "text/plain": [
       "0.73259820813232257"
      ]
     },
     "execution_count": 12,
     "metadata": {},
     "output_type": "execute_result"
    }
   ],
   "source": [
    "X_train, X_test, y_train, y_test = train_test_split(X_scaled, y2, test_size=0.33, random_state=0)\n",
    "logreg.coef_\n",
    "logreg.intercept_\n",
    "logreg.fit(X_train,y_train)\n",
    "logreg.score(X_test,y_test)\n",
    "\n",
    "#not-scaled\n",
    "#with IP, ER included, test size = 0.2, score: .914\n",
    "#with IP, ER included, test size = 0.2, C=1000, penalty = 'l2', score: .927\n",
    "#with IP, ER included, test size = 0.33, score: .918\n",
    "#with IP, ER included, test size = 0.33, C=10, penalty = 'l1', score: .934\n",
    "\n",
    "####Scaled Below\n",
    "#with IP, ER included, test size = 0.2, score: .933\n",
    "#with IP, ER included, test size = 0.2, C=1000, penalty = 'l2, score: .927\n",
    "#with IP, ER included, test size = 0.33, score: .935\n",
    "#with IP, ER included, test size = 0.33, C=10, penalty = 'l1, score: .936\n",
    "\n",
    "#NOT-SCALED\n",
    "#with IP, ER excluded, test size = 0.2, score: .900\n",
    "#with IP, ER excluded, test size = 0.2, C=10, penalty = 'l2', score: .901\n",
    "#with IP, ER excluded, test size = 0.33, score: .890\n",
    "#with IP, ER excluded, test size = 0.33, C = 1, penalty = 'l1' score: .897\n",
    "\n",
    "#SCALED\n",
    "#with IP, ER excluded, test size = 0.2, score: .901\n",
    "#with IP, ER excluded, test size = 0.2, C=1, penalty = 'l2', score: .901\n",
    "#with IP, ER excluded, test size = 0.33, score: .8987\n",
    "#with IP, ER excluded, test size = 0.33, C = 0.1, penalty = 'l2' score: .901\n",
    "\n",
    "#NOT-SCALED\n",
    "#with IP, ER, R, ERA, BF excluded, test size = 0.2, score: .869\n",
    "#with IP, ER, R, ERA, BF  excluded, test size = 0.2, C=1000, penalty = 'l2', score: .875\n",
    "#wwith IP, ER, R, ERA, BF  excluded, test size = 0.33, score: .864\n",
    "#with IP, ER, R, ERA, BF excluded, test size = 0.33, C=1, penalty = 'l1', score: .867\n",
    "\n",
    "#SCALED\n",
    "#with IP, ER, R, ERA, BF excluded, test size = 0.2, score: .875\n",
    "#with IP, ER, R, ERA, BF  excluded, test size = 0.2, C=100, penalty = 'l2', score: .875\n",
    "#wwith IP, ER, R, ERA, BF  excluded, test size = 0.33, score: .865\n",
    "#with IP, ER, R, ERA, BF excluded, test size = 0.33, C=10, penalty = 'l1', score: .866\n",
    "\n",
    "#NOT-SCALED\n",
    "#with IP, ER, R, H, BF, ERA, HR excluded, test size = 0.2, score: .753\n",
    "#with IP, ER, R, H, BF, ERA, HR excluded, test size = 0.2, C=1, penalty = 'l2', score: .753\n",
    "#with IP, ER, R, H, BF, ERA, HR excluded, test size = 0.33, score: .736\n",
    "#with IP, ER, R, H, BF, ERA, HR excluded, test size = 0.33, C=1, penalty = 'l1', score: .736\n",
    "\n",
    "#SCALED\n",
    "#with IP, ER, R, H, BF, ERA, HR excluded, test size = 0.2, score: .752\n",
    "#with IP, ER, R, H, BF, ERA, HR excluded, test size = 0.2, C=0.1, penalty = 'l2', score: .757\n",
    "#with IP, ER, R, H, BF, ERA, HR excluded, test size = 0.33, score: .734\n",
    "#with IP, ER, R, H, BF, ERA, HR excluded, test size = 0.33, C=0.1, penalty = 'l2', score: .737\n",
    "\n",
    "#logreg scorewith IP, ER, Pit R, H,HR, BF, ERA, HR out, test size = 0.33, C=0.1, penalty = 'l2', score: .737"
   ]
  },
  {
   "cell_type": "code",
   "execution_count": 13,
   "metadata": {
    "collapsed": false
   },
   "outputs": [
    {
     "name": "stdout",
     "output_type": "stream",
     "text": [
      "             precision    recall  f1-score   support\n",
      "\n",
      "          0       0.76      0.75      0.75       793\n",
      "          1       0.70      0.71      0.71       658\n",
      "\n",
      "avg / total       0.73      0.73      0.73      1451\n",
      "\n"
     ]
    },
    {
     "data": {
      "text/plain": [
       "{'C': 0.1, 'penalty': 'l2'}"
      ]
     },
     "execution_count": 13,
     "metadata": {},
     "output_type": "execute_result"
    }
   ],
   "source": [
    "X_train, X_test, y_train, y_test = train_test_split(X_scaled, y2, test_size=0.33, random_state=0)\n",
    "\n",
    "param_grid = [{'C': [0.1, 1, 10, 100, 1000], 'penalty': ['l1', 'l2']}]\n",
    " \n",
    "model = GridSearchCV(logreg, param_grid, cv=5)\n",
    "model.fit(X_train, y_train)\n",
    "y_true, y_pred = y_test, model.predict(X_test)\n",
    "metrics.accuracy_score(y_true, y_pred)\n",
    "print(metrics.classification_report(y_true, y_pred))\n",
    "\n",
    "model.best_params_"
   ]
  },
  {
   "cell_type": "code",
   "execution_count": 14,
   "metadata": {
    "collapsed": false
   },
   "outputs": [
    {
     "name": "stdout",
     "output_type": "stream",
     "text": [
      "[[596 197]\n",
      " [191 467]]\n"
     ]
    }
   ],
   "source": [
    "from sklearn.metrics import confusion_matrix\n",
    "confusion = np.array(confusion_matrix(y_test, y_pred))\n",
    "print(confusion)"
   ]
  },
  {
   "cell_type": "code",
   "execution_count": 15,
   "metadata": {
    "collapsed": true
   },
   "outputs": [],
   "source": [
    "# calculate true positives, the number of 1s correctly predicted to be 1\n",
    "TP = confusion[0,0]\n",
    "# calculate false positives, the number of 0s incorrectly predicted to be 1\n",
    "FP  = confusion[1,0]\n",
    "# calculate true negatives, the number of 0s correctly predicted to be 0\n",
    "TN = confusion[1,1]\n",
    "# calculate false negatives, the number of 1s incorrectly predicted to be 0\n",
    "FN = confusion[0,1]"
   ]
  },
  {
   "cell_type": "code",
   "execution_count": 16,
   "metadata": {
    "collapsed": false
   },
   "outputs": [
    {
     "name": "stdout",
     "output_type": "stream",
     "text": [
      "596\n",
      "191\n",
      "467\n",
      "197\n"
     ]
    }
   ],
   "source": [
    "print TP\n",
    "print FP\n",
    "print TN\n",
    "print FN"
   ]
  },
  {
   "cell_type": "code",
   "execution_count": 17,
   "metadata": {
    "collapsed": false
   },
   "outputs": [],
   "source": [
    "from sklearn.metrics import roc_curve, auc\n",
    "import matplotlib.pyplot as plt\n",
    "# plt.style.use('seaborn-white')\n",
    "%matplotlib inline"
   ]
  },
  {
   "cell_type": "code",
   "execution_count": 18,
   "metadata": {
    "collapsed": false
   },
   "outputs": [],
   "source": [
    "y_score = logreg.decision_function(X_test)\n",
    "\n",
    "FPR = dict()\n",
    "TPR = dict()\n",
    "ROC_AUC = dict()\n",
    "\n",
    "# For class 1, find the area under the curve\n",
    "FPR[1], TPR[1], _ = roc_curve(y_test, y_score)\n",
    "ROC_AUC[1] = auc(FPR[1], TPR[1])"
   ]
  },
  {
   "cell_type": "code",
   "execution_count": 20,
   "metadata": {
    "collapsed": false,
    "scrolled": false
   },
   "outputs": [
    {
     "data": {
      "image/png": "[encoded data removed]",
      "text/plain": [
       "<matplotlib.figure.Figure at 0x7f1e66a1d210>"
      ]
     },
     "metadata": {},
     "output_type": "display_data"
    }
   ],
   "source": [
    "plt.figure(figsize=[11,9])\n",
    "plt.plot(FPR[1], TPR[1], label='ROC curve (area = %0.2f)' % ROC_AUC[1], linewidth=4)\n",
    "plt.plot([0, 1], [0, 1], 'k--', linewidth=4)\n",
    "plt.xlim([0.0, 1.0])\n",
    "plt.ylim([0.0, 1.05])\n",
    "plt.xlabel('False Positive Rate', fontsize=18)\n",
    "plt.ylabel('True Positive Rate', fontsize=18)\n",
    "plt.title('Receiver operating characteristic for Quality Start prediction, Tough Parks', fontsize=18)\n",
    "plt.legend(loc=\"lower right\")\n",
    "plt.show()"
   ]
  },
  {
   "cell_type": "code",
   "execution_count": 21,
   "metadata": {
    "collapsed": false
   },
   "outputs": [],
   "source": [
    "#exclude IP and ER from X to limit blatant collinearity\n",
    "#exclude Strikes due to Ctct, Sts, StL all components of Strikes, K's overlap and BIP are strikes good or bad outcome\n",
    "#exclude \n",
    "X = easy_baseball4[['BB','K', 'Ctct', 'StS', 'StL', 'GB', 'FB', 'LD']]\n",
    "X2 = easy_baseball4[['HR', 'H', 'BB','K','Pit', 'Ctct', 'StS', 'StL', 'GB', 'FB', 'LD']]\n",
    "scaler = StandardScaler()\n",
    "X_scaled = scaler.fit_transform(X)\n",
    "X2_scaled = scaler.fit_transform(X2)\n",
    "y2= easy_baseball4.QS\n",
    "X_train, X_test, y_train, y_test = train_test_split(X_scaled, y2, test_size=0.33, random_state=0)"
   ]
  },
  {
   "cell_type": "code",
   "execution_count": 22,
   "metadata": {
    "collapsed": false
   },
   "outputs": [
    {
     "data": {
      "text/plain": [
       "<bound method LogisticRegression.get_params of LogisticRegression(C=0.1, class_weight=None, dual=False, fit_intercept=True,\n",
       "          intercept_scaling=1, max_iter=100, multi_class='ovr', n_jobs=1,\n",
       "          penalty='l1', random_state=None, solver='liblinear', tol=0.0001,\n",
       "          verbose=0, warm_start=False)>"
      ]
     },
     "execution_count": 22,
     "metadata": {},
     "output_type": "execute_result"
    }
   ],
   "source": [
    "####EASY BALLPARK LOGISTIC REGRESSION AND ROC/AUC/CONFUSION MATRIX/CLASSRPT\n",
    "############ logistic regression on pitching game data and Quality Starts\n",
    "logreg = LogisticRegression(C = 0.1, penalty = 'l1')\n",
    "logreg.fit(X_scaled, y2)\n",
    "#scores = cross_validation.cross_val_score(logreg, X2, Y2, cv=5)\n",
    "#scores.mean()\n",
    "\n",
    "logreg.get_params"
   ]
  },
  {
   "cell_type": "code",
   "execution_count": 23,
   "metadata": {
    "collapsed": false
   },
   "outputs": [
    {
     "data": {
      "text/plain": [
       "array([ 0.73706004,  0.72901554,  0.75544041,  0.72901554,  0.72746114])"
      ]
     },
     "execution_count": 23,
     "metadata": {},
     "output_type": "execute_result"
    }
   ],
   "source": [
    "cross_val_score(logreg, X_scaled, y2, cv=5)"
   ]
  },
  {
   "cell_type": "code",
   "execution_count": 25,
   "metadata": {
    "collapsed": false
   },
   "outputs": [
    {
     "name": "stdout",
     "output_type": "stream",
     "text": [
      "0.794116798582\n"
     ]
    }
   ],
   "source": [
    "easy_baseball4_scores = cross_val_score(logreg, X_scaled, y2, cv=5, scoring='roc_auc')\n",
    "print np.mean(easy_baseball4_scores)"
   ]
  },
  {
   "cell_type": "code",
   "execution_count": 26,
   "metadata": {
    "collapsed": false
   },
   "outputs": [
    {
     "data": {
      "text/plain": [
       "0.73163841807909602"
      ]
     },
     "execution_count": 26,
     "metadata": {},
     "output_type": "execute_result"
    }
   ],
   "source": [
    "X_train, X_test, y_train, y_test = train_test_split(X_scaled, y2, test_size=0.33, random_state=0)\n",
    "logreg.coef_\n",
    "logreg.intercept_\n",
    "logreg.fit(X_train,y_train)\n",
    "logreg.score(X_test,y_test)\n",
    "\n",
    "#Easy Park Score, scaled, test size = 0.33, C = 0.1, penalty = 'l1'"
   ]
  },
  {
   "cell_type": "code",
   "execution_count": 27,
   "metadata": {
    "collapsed": false
   },
   "outputs": [
    {
     "name": "stdout",
     "output_type": "stream",
     "text": [
      "             precision    recall  f1-score   support\n",
      "\n",
      "          0       0.73      0.69      0.71      1511\n",
      "          1       0.73      0.77      0.75      1675\n",
      "\n",
      "avg / total       0.73      0.73      0.73      3186\n",
      "\n"
     ]
    },
    {
     "data": {
      "text/plain": [
       "{'C': 0.1, 'penalty': 'l1'}"
      ]
     },
     "execution_count": 27,
     "metadata": {},
     "output_type": "execute_result"
    }
   ],
   "source": [
    "X_train, X_test, y_train, y_test = train_test_split(X_scaled, y2, test_size=0.33, random_state=0)\n",
    "\n",
    "param_grid = [{'C': [0.1, 1, 10, 100, 1000], 'penalty': ['l1', 'l2']}]\n",
    " \n",
    "model = GridSearchCV(logreg, param_grid, cv=5)\n",
    "model.fit(X_train, y_train)\n",
    "y_true, y_pred = y_test, model.predict(X_test)\n",
    "metrics.accuracy_score(y_true, y_pred)\n",
    "print(metrics.classification_report(y_true, y_pred))\n",
    "\n",
    "model.best_params_"
   ]
  },
  {
   "cell_type": "code",
   "execution_count": 28,
   "metadata": {
    "collapsed": false
   },
   "outputs": [
    {
     "name": "stdout",
     "output_type": "stream",
     "text": [
      "[[1048  463]\n",
      " [ 392 1283]]\n"
     ]
    }
   ],
   "source": [
    "from sklearn.metrics import confusion_matrix\n",
    "confusion = np.array(confusion_matrix(y_test, y_pred))\n",
    "print(confusion)"
   ]
  },
  {
   "cell_type": "code",
   "execution_count": 29,
   "metadata": {
    "collapsed": true
   },
   "outputs": [],
   "source": [
    "# calculate true positives, the number of 1s correctly predicted to be 1\n",
    "TP = confusion[0,0]\n",
    "# calculate false positives, the number of 0s incorrectly predicted to be 1\n",
    "FP  = confusion[1,0]\n",
    "# calculate true negatives, the number of 0s correctly predicted to be 0\n",
    "TN = confusion[1,1]\n",
    "# calculate false negatives, the number of 1s incorrectly predicted to be 0\n",
    "FN = confusion[0,1]"
   ]
  },
  {
   "cell_type": "code",
   "execution_count": 30,
   "metadata": {
    "collapsed": false
   },
   "outputs": [
    {
     "name": "stdout",
     "output_type": "stream",
     "text": [
      "1048\n",
      "392\n",
      "1283\n",
      "463\n"
     ]
    }
   ],
   "source": [
    "print TP\n",
    "print FP\n",
    "print TN\n",
    "print FN"
   ]
  },
  {
   "cell_type": "code",
   "execution_count": 31,
   "metadata": {
    "collapsed": true
   },
   "outputs": [],
   "source": [
    "from sklearn.metrics import roc_curve, auc\n",
    "import matplotlib.pyplot as plt\n",
    "# plt.style.use('seaborn-white')\n",
    "%matplotlib inline"
   ]
  },
  {
   "cell_type": "code",
   "execution_count": 32,
   "metadata": {
    "collapsed": true
   },
   "outputs": [],
   "source": [
    "y_score = logreg.decision_function(X_test)\n",
    "\n",
    "FPR = dict()\n",
    "TPR = dict()\n",
    "ROC_AUC = dict()\n",
    "\n",
    "# For class 1, find the area under the curve\n",
    "FPR[1], TPR[1], _ = roc_curve(y_test, y_score)\n",
    "ROC_AUC[1] = auc(FPR[1], TPR[1])"
   ]
  },
  {
   "cell_type": "code",
   "execution_count": 33,
   "metadata": {
    "collapsed": false
   },
   "outputs": [
    {
     "data": {
      "image/png": "[encoded data removed]",
      "text/plain": [
       "<matplotlib.figure.Figure at 0x7f1e66a93610>"
      ]
     },
     "metadata": {},
     "output_type": "display_data"
    }
   ],
   "source": [
    "plt.figure(figsize=[11,9])\n",
    "plt.plot(FPR[1], TPR[1], label='ROC curve (area = %0.2f)' % ROC_AUC[1], linewidth=4)\n",
    "plt.plot([0, 1], [0, 1], 'k--', linewidth=4)\n",
    "plt.xlim([0.0, 1.0])\n",
    "plt.ylim([0.0, 1.05])\n",
    "plt.xlabel('False Positive Rate', fontsize=18)\n",
    "plt.ylabel('True Positive Rate', fontsize=18)\n",
    "plt.title('Receiver operating characteristic for Quality Start prediction-Easy Parks', fontsize=18)\n",
    "plt.legend(loc=\"lower right\")\n",
    "plt.show()"
   ]
  },
  {
   "cell_type": "code",
   "execution_count": 65,
   "metadata": {
    "collapsed": false
   },
   "outputs": [],
   "source": [
    "X = easy_baseball4[['BB','K', 'Ctct', 'StS', 'StL', 'GB', 'FB', 'LD']]\n",
    "scaler = StandardScaler()\n",
    "X_scaled = scaler.fit_transform(X)\n",
    "y2=easy_baseball4.QS\n",
    "#Taken out IP, ER, BF, R, H, ERA, HR in that order due to overly predictive nature of features, or feature-engineering rooted nature \n",
    "#X = baseball5[['BB','K','Pit','Str', 'Ctct', 'StS', 'StL', 'GB', 'FB', 'LD']]\n",
    "#from sklearn.tree import DecisionTreeRegressor\n",
    "from sklearn.cross_validation import cross_val_score"
   ]
  },
  {
   "cell_type": "code",
   "execution_count": 66,
   "metadata": {
    "collapsed": false
   },
   "outputs": [
    {
     "data": {
      "text/plain": [
       "DecisionTreeClassifier(class_weight=None, criterion='gini', max_depth=None,\n",
       "            max_features=None, max_leaf_nodes=None, min_samples_leaf=1,\n",
       "            min_samples_split=2, min_weight_fraction_leaf=0.0,\n",
       "            presort=False, random_state=None, splitter='best')"
      ]
     },
     "execution_count": 66,
     "metadata": {},
     "output_type": "execute_result"
    }
   ],
   "source": [
    "rt = tree.DecisionTreeClassifier()\n",
    "rt.fit(X_scaled,y2)"
   ]
  },
  {
   "cell_type": "code",
   "execution_count": 67,
   "metadata": {
    "collapsed": false
   },
   "outputs": [
    {
     "data": {
      "text/plain": [
       "<matplotlib.collections.PathCollection at 0x7f1e57f6db90>"
      ]
     },
     "execution_count": 67,
     "metadata": {},
     "output_type": "execute_result"
    },
    {
     "data": {
      "image/png": "[encoded data removed]",
      "text/plain": [
       "<matplotlib.figure.Figure at 0x7f1e668e9fd0>"
      ]
     },
     "metadata": {},
     "output_type": "display_data"
    }
   ],
   "source": [
    "from sklearn.cross_validation import train_test_split\n",
    "\n",
    "X_train, X_test, y_train, y_test = train_test_split(X_scaled, y2, random_state=42, test_size=0.30)\n",
    "y_pred = rt.predict(X_test)\n",
    "\n",
    "plt.scatter(y_test, y_pred)"
   ]
  },
  {
   "cell_type": "code",
   "execution_count": 68,
   "metadata": {
    "collapsed": false
   },
   "outputs": [
    {
     "data": {
      "text/plain": [
       "1.0"
      ]
     },
     "execution_count": 68,
     "metadata": {},
     "output_type": "execute_result"
    }
   ],
   "source": [
    "from sklearn.metrics import r2_score\n",
    "r2_score(y_test, y_pred)"
   ]
  },
  {
   "cell_type": "code",
   "execution_count": 69,
   "metadata": {
    "collapsed": false
   },
   "outputs": [],
   "source": [
    "from sklearn.cross_validation import cross_val_score\n",
    "\n",
    "scores = []\n",
    "best_score = 0\n",
    "best_depth = 0\n",
    "\n",
    "for i in range(1, 9):\n",
    "    model = DecisionTreeClassifier(max_depth=i, random_state=1)\n",
    "    current_score = cross_val_score(model, X, y2, cv=3, scoring='mean_squared_error')\n",
    "    # remember sklearn does MSE in negative, so fix that\n",
    "    current_score = -current_score\n",
    "    # to get the error we want, we need the square root of the MSE\n",
    "    current_score = np.sqrt(current_score)\n",
    "    # then we will have an array, so we want the mean so we can get a real idea\n",
    "    current_score = np.mean(current_score)\n",
    "    \n",
    "    # If the score mean is better than the current best, or best is the default, then update!\n",
    "    if current_score < best_score or best_score == 0:\n",
    "        best_score = current_score\n",
    "        best_depth = i\n",
    "        \n",
    "    # store to plot anyway!\n",
    "    scores.append(current_score)"
   ]
  },
  {
   "cell_type": "code",
   "execution_count": 70,
   "metadata": {
    "collapsed": false
   },
   "outputs": [
    {
     "name": "stdout",
     "output_type": "stream",
     "text": [
      "Best score: \n",
      "0.41541799521\n",
      "Best depth: \n",
      "8\n"
     ]
    },
    {
     "data": {
      "text/plain": [
       "<matplotlib.text.Text at 0x7f1e57f796d0>"
      ]
     },
     "execution_count": 70,
     "metadata": {},
     "output_type": "execute_result"
    },
    {
     "data": {
      "image/png": "[encoded data removed]",
      "text/plain": [
       "<matplotlib.figure.Figure at 0x7f1e66991590>"
      ]
     },
     "metadata": {},
     "output_type": "display_data"
    }
   ],
   "source": [
    "print 'Best score: ' \n",
    "print best_score\n",
    "print \"Best depth: \" \n",
    "print best_depth\n",
    "\n",
    "# now actually fit the model\n",
    "model = DecisionTreeRegressor(max_depth=best_depth, random_state=1)\n",
    "model.fit(X, y2)\n",
    "\n",
    "# plot our results\n",
    "plt.figure()\n",
    "plt.plot(range(1, 9), scores)\n",
    "plt.xlabel('x=max tree depth')\n",
    "plt.ylabel('error')"
   ]
  },
  {
   "cell_type": "code",
   "execution_count": 284,
   "metadata": {
    "collapsed": false
   },
   "outputs": [],
   "source": [
    "X = baseball5[['H','BB','K','HR','Pit', 'Ctct', 'StS', 'StL', 'GB', 'FB', 'LD']]\n",
    "scaler = StandardScaler()\n",
    "X_scaled = scaler.fit_transform(X)\n",
    "#Taken out IP, ER, BF, R, H, ERA, HR in that order due to overly predictive nature of features, or feature-engineering rooted nature \n",
    "#X = baseball5[['BB','K','Pit','Str', 'Ctct', 'StS', 'StL', 'GB', 'FB', 'LD']]\n",
    "from sklearn.tree import DecisionTreeRegressor\n",
    "from sklearn.cross_validation import cross_val_score"
   ]
  },
  {
   "cell_type": "code",
   "execution_count": 285,
   "metadata": {
    "collapsed": false
   },
   "outputs": [
    {
     "data": {
      "text/plain": [
       "DecisionTreeRegressor(criterion='mse', max_depth=None, max_features=None,\n",
       "           max_leaf_nodes=None, min_samples_leaf=10, min_samples_split=30,\n",
       "           min_weight_fraction_leaf=0.0, presort=False, random_state=0,\n",
       "           splitter='best')"
      ]
     },
     "execution_count": 285,
     "metadata": {},
     "output_type": "execute_result"
    }
   ],
   "source": [
    "rt = tree.DecisionTreeRegressor(\n",
    " min_samples_split=30, min_samples_leaf=10,\n",
    "  random_state=0)\n",
    "rt.fit(X_scaled,y2)"
   ]
  },
  {
   "cell_type": "code",
   "execution_count": 286,
   "metadata": {
    "collapsed": false
   },
   "outputs": [
    {
     "data": {
      "text/plain": [
       "<matplotlib.collections.PathCollection at 0x7ff22c6b2d10>"
      ]
     },
     "execution_count": 286,
     "metadata": {},
     "output_type": "execute_result"
    },
    {
     "data": {
      "image/png": "[encoded data removed]",
      "text/plain": [
       "<matplotlib.figure.Figure at 0x7ff22d88d690>"
      ]
     },
     "metadata": {},
     "output_type": "display_data"
    }
   ],
   "source": [
    "from sklearn.cross_validation import train_test_split\n",
    "\n",
    "X_train, X_test, y_train, y_test = train_test_split(X_scaled, y2, random_state=42, test_size=0.30)\n",
    "y_pred = rt.predict(X_test)\n",
    "\n",
    "plt.scatter(y_test, y_pred)"
   ]
  },
  {
   "cell_type": "code",
   "execution_count": 287,
   "metadata": {
    "collapsed": false
   },
   "outputs": [
    {
     "data": {
      "text/plain": [
       "0.6313020458868861"
      ]
     },
     "execution_count": 287,
     "metadata": {},
     "output_type": "execute_result"
    }
   ],
   "source": [
    "from sklearn.metrics import r2_score\n",
    "r2_score(y_test, y_pred)"
   ]
  },
  {
   "cell_type": "code",
   "execution_count": 288,
   "metadata": {
    "collapsed": false
   },
   "outputs": [],
   "source": [
    "from sklearn.cross_validation import cross_val_score\n",
    "\n",
    "scores = []\n",
    "best_score = 0\n",
    "best_depth = 0\n",
    "\n",
    "for i in range(1, 9):\n",
    "    model = DecisionTreeRegressor(max_depth=i, random_state=1)\n",
    "    current_score = cross_val_score(model, X_scaled, y2, cv=3, scoring='mean_squared_error')\n",
    "    # remember sklearn does MSE in negative, so fix that\n",
    "    current_score = -current_score\n",
    "    # to get the error we want, we need the square root of the MSE\n",
    "    current_score = np.sqrt(current_score)\n",
    "    # then we will have an array, so we want the mean so we can get a real idea\n",
    "    current_score = np.mean(current_score)\n",
    "    \n",
    "    # If the score mean is better than the current best, or best is the default, then update!\n",
    "    if current_score < best_score or best_score == 0:\n",
    "        best_score = current_score\n",
    "        best_depth = i\n",
    "        \n",
    "    # store to plot anyway!\n",
    "    scores.append(current_score)"
   ]
  },
  {
   "cell_type": "code",
   "execution_count": 289,
   "metadata": {
    "collapsed": false
   },
   "outputs": [
    {
     "name": "stdout",
     "output_type": "stream",
     "text": [
      "Best score: \n",
      "0.386164403675\n",
      "Best depth: \n",
      "5\n"
     ]
    },
    {
     "data": {
      "text/plain": [
       "<matplotlib.text.Text at 0x7ff22d8b1690>"
      ]
     },
     "execution_count": 289,
     "metadata": {},
     "output_type": "execute_result"
    },
    {
     "data": {
      "image/png": "[encoded data removed]",
      "text/plain": [
       "<matplotlib.figure.Figure at 0x7ff22d88d7d0>"
      ]
     },
     "metadata": {},
     "output_type": "display_data"
    }
   ],
   "source": [
    "print 'Best score: ' \n",
    "print best_score\n",
    "print \"Best depth: \" \n",
    "print best_depth\n",
    "\n",
    "# now actually fit the model\n",
    "model = DecisionTreeRegressor(max_depth=best_depth, random_state=1)\n",
    "model.fit(X_scaled, y2)\n",
    "\n",
    "# plot our results\n",
    "plt.figure()\n",
    "plt.plot(range(1, 9), scores)\n",
    "plt.xlabel('x=max tree depth')\n",
    "plt.ylabel('error')"
   ]
  },
  {
   "cell_type": "code",
   "execution_count": 290,
   "metadata": {
    "collapsed": false
   },
   "outputs": [
    {
     "name": "stdout",
     "output_type": "stream",
     "text": [
      "[0.45434152596499194, 0.42067482472108386, 0.41236378820872793, 0.39890800529742165, 0.38616440367498722, 0.39031224416500371, 0.39856666801161378, 0.40941628716628986]\n"
     ]
    }
   ],
   "source": [
    "print scores"
   ]
  },
  {
   "cell_type": "code",
   "execution_count": 294,
   "metadata": {
    "collapsed": false
   },
   "outputs": [
    {
     "data": {
      "text/html": [
       "<div>\n",
       "<table border=\"1\" class=\"dataframe\">\n",
       "  <thead>\n",
       "    <tr style=\"text-align: right;\">\n",
       "      <th></th>\n",
       "      <th>feature</th>\n",
       "      <th>importance</th>\n",
       "    </tr>\n",
       "  </thead>\n",
       "  <tbody>\n",
       "    <tr>\n",
       "      <th>0</th>\n",
       "      <td>H</td>\n",
       "      <td>0.380061</td>\n",
       "    </tr>\n",
       "    <tr>\n",
       "      <th>1</th>\n",
       "      <td>BB</td>\n",
       "      <td>0.021473</td>\n",
       "    </tr>\n",
       "    <tr>\n",
       "      <th>2</th>\n",
       "      <td>K</td>\n",
       "      <td>0.002261</td>\n",
       "    </tr>\n",
       "    <tr>\n",
       "      <th>3</th>\n",
       "      <td>HR</td>\n",
       "      <td>0.026063</td>\n",
       "    </tr>\n",
       "    <tr>\n",
       "      <th>4</th>\n",
       "      <td>Pit</td>\n",
       "      <td>0.003540</td>\n",
       "    </tr>\n",
       "    <tr>\n",
       "      <th>5</th>\n",
       "      <td>Str</td>\n",
       "      <td>0.453431</td>\n",
       "    </tr>\n",
       "    <tr>\n",
       "      <th>6</th>\n",
       "      <td>Ctct</td>\n",
       "      <td>0.000000</td>\n",
       "    </tr>\n",
       "    <tr>\n",
       "      <th>7</th>\n",
       "      <td>StS</td>\n",
       "      <td>0.000000</td>\n",
       "    </tr>\n",
       "    <tr>\n",
       "      <th>8</th>\n",
       "      <td>StL</td>\n",
       "      <td>0.006821</td>\n",
       "    </tr>\n",
       "    <tr>\n",
       "      <th>9</th>\n",
       "      <td>GB</td>\n",
       "      <td>0.086825</td>\n",
       "    </tr>\n",
       "    <tr>\n",
       "      <th>10</th>\n",
       "      <td>FB</td>\n",
       "      <td>0.019525</td>\n",
       "    </tr>\n",
       "    <tr>\n",
       "      <th>11</th>\n",
       "      <td>LD</td>\n",
       "      <td>0.000000</td>\n",
       "    </tr>\n",
       "  </tbody>\n",
       "</table>\n",
       "</div>"
      ],
      "text/plain": [
       "   feature  importance\n",
       "0        H    0.380061\n",
       "1       BB    0.021473\n",
       "2        K    0.002261\n",
       "3       HR    0.026063\n",
       "4      Pit    0.003540\n",
       "5      Str    0.453431\n",
       "6     Ctct    0.000000\n",
       "7      StS    0.000000\n",
       "8      StL    0.006821\n",
       "9       GB    0.086825\n",
       "10      FB    0.019525\n",
       "11      LD    0.000000"
      ]
     },
     "execution_count": 294,
     "metadata": {},
     "output_type": "execute_result"
    }
   ],
   "source": [
    "pd.DataFrame({'feature':X.columns, 'importance':model.feature_importances_})"
   ]
  },
  {
   "cell_type": "code",
   "execution_count": null,
   "metadata": {
    "collapsed": true
   },
   "outputs": [],
   "source": []
  }
 ],
 "metadata": {
  "anaconda-cloud": {},
  "kernelspec": {
   "display_name": "Python [default]",
   "language": "python",
   "name": "python2"
  },
  "language_info": {
   "codemirror_mode": {
    "name": "ipython",
    "version": 2
   },
   "file_extension": ".py",
   "mimetype": "text/x-python",
   "name": "python",
   "nbconvert_exporter": "python",
   "pygments_lexer": "ipython2",
   "version": "2.7.12"
  }
 },
 "nbformat": 4,
 "nbformat_minor": 1
}
